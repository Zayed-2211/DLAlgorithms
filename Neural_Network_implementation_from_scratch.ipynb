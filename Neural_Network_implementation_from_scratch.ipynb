{
  "cells": [
    {
      "cell_type": "code",
      "execution_count": null,
      "id": "2fcbf5c3",
      "metadata": {
        "id": "2fcbf5c3"
      },
      "outputs": [],
      "source": [
        "import numpy as np\n",
        "from sklearn.datasets import fetch_openml\n",
        "from sklearn.model_selection import train_test_split\n",
        "from sklearn.preprocessing import StandardScaler\n",
        "import warnings\n",
        "warnings.filterwarnings('ignore')\n",
        "# Load MNIST dataset\n",
        "mnist = fetch_openml('mnist_784')\n",
        "X, y = mnist.data, mnist.target.astype(np.int)\n",
        "\n",
        "# Standardize dataset\n",
        "scaler = StandardScaler()\n",
        "X = scaler.fit_transform(X)\n",
        "\n",
        "# Divide data into training and test\n",
        "X_train, X_test, y_train, y_test = train_test_split(X, y, test_size=0.2, random_state=42)\n",
        "\n",
        "# One hot vector for labels\n",
        "y_train_one_hot = np.eye(10)[y_train]\n",
        "y_test_one_hot = np.eye(10)[y_test]\n",
        "\n",
        "# Activation functions\n",
        "def sigmoid(x):\n",
        "    return 1 / (1 + np.exp(-x))\n",
        "\n",
        "def sigmoid_derivative(x):\n",
        "    return x * (1 - x)\n",
        "\n",
        "def mse(y_true, y_pred):\n",
        "    return np.mean(np.square(y_true - y_pred))\n",
        "\n",
        "def mse_derivative(y_true, y_pred):\n",
        "    return 2 * (y_pred - y_true)\n"
      ]
    },
    {
      "cell_type": "code",
      "execution_count": null,
      "id": "976d1555",
      "metadata": {
        "id": "976d1555"
      },
      "outputs": [],
      "source": [
        "\n",
        "class NeuralNetwork:\n",
        "    def __init__(self, layers):\n",
        "        self.layers = layers\n",
        "        self.weights = []\n",
        "        self.biases = []\n",
        "        for i in range(len(layers) - 1):\n",
        "            self.weights.append(np.random.randn(layers[i], layers[i + 1]))\n",
        "            self.biases.append(np.random.randn(layers[i + 1]))\n",
        "\n",
        "    def forward(self, X):\n",
        "        self.a = [X]\n",
        "        for i in range(len(self.layers) - 1):\n",
        "            z = np.dot(self.a[-1], self.weights[i]) + self.biases[i]\n",
        "            a = sigmoid(z)\n",
        "            self.a.append(a)\n",
        "        return self.a[-1]\n",
        "\n",
        "    def backward(self, X, y, learning_rate):\n",
        "        m = X.shape[0]  # Corrected line\n",
        "        deltas = [mse_derivative(y, self.a[-1]) * sigmoid_derivative(self.a[-1])]\n",
        "        for i in reversed(range(len(self.layers) - 2)):\n",
        "            delta = np.dot(deltas[-1], self.weights[i + 1].T) * sigmoid_derivative(self.a[i + 1])\n",
        "            deltas.append(delta)\n",
        "        deltas.reverse()\n",
        "\n",
        "        for i in range(len(self.layers) - 1):\n",
        "            self.weights[i] -= learning_rate * np.dot(self.a[i].T, deltas[i]) / m\n",
        "            self.biases[i] -= learning_rate * np.sum(deltas[i], axis=0) / m\n",
        "\n",
        "\n",
        "    def train(self, X, y, learning_rate, epochs):\n",
        "        for epoch in range(epochs):\n",
        "            y_pred = self.forward(X)\n",
        "            self.backward(X, y, learning_rate)\n",
        "            if epoch % 100 == 0:\n",
        "                loss = mse(y, y_pred)\n",
        "                print(f'Epoch {epoch}, Loss: {loss}')\n",
        "\n",
        "    def evaluate(self, X, y):\n",
        "        y_pred = self.forward(X)\n",
        "        accuracy = np.mean(np.argmax(y_pred, axis=1) == y)\n",
        "        return accuracy\n",
        "\n",
        "def NN(X, y, num_of_layers, size_of_layers):\n",
        "    layers = [X.shape[1]] + size_of_layers\n",
        "    nn = NeuralNetwork(layers)\n",
        "    nn.train(X_train, y_train_one_hot, learning_rate=0.1, epochs=1000)\n",
        "    return nn\n",
        "\n"
      ]
    },
    {
      "cell_type": "code",
      "execution_count": null,
      "id": "a47c27aa",
      "metadata": {
        "colab": {
          "base_uri": "https://localhost:8080/"
        },
        "id": "a47c27aa",
        "outputId": "0db6d26f-6250-482c-d054-b28fc08a01be"
      },
      "outputs": [
        {
          "output_type": "stream",
          "name": "stdout",
          "text": [
            "Epoch 0, Loss: 0.41948829014853317\n",
            "Epoch 100, Loss: 0.15214380839630795\n",
            "Epoch 200, Loss: 0.10482040222146681\n",
            "Epoch 300, Loss: 0.09869030273791253\n",
            "Epoch 400, Loss: 0.09636935057335337\n",
            "Epoch 500, Loss: 0.09429680426374203\n",
            "Epoch 600, Loss: 0.09193734964569213\n",
            "Epoch 700, Loss: 0.0898638652665786\n",
            "Epoch 800, Loss: 0.088187882541152\n",
            "Epoch 900, Loss: 0.08666624683174308\n",
            "Accuracy (2 layers): 31.81%\n"
          ]
        }
      ],
      "source": [
        "\n",
        "# Test the code with different architectures\n",
        "# 1. NN with 2 layers: 1 hidden layer and 1 output layer\n",
        "nn1 = NN(X_train, y_train_one_hot, 2, [20, 10])\n",
        "accuracy1 = nn1.evaluate(X_test, y_test)\n",
        "print(f'Accuracy (2 layers): {accuracy1 * 100:.2f}%')\n"
      ]
    },
    {
      "cell_type": "code",
      "execution_count": null,
      "id": "2436f61b",
      "metadata": {
        "colab": {
          "base_uri": "https://localhost:8080/"
        },
        "id": "2436f61b",
        "outputId": "3a9e7581-e9c4-4dbd-8e24-80337f397b1f"
      },
      "outputs": [
        {
          "output_type": "stream",
          "name": "stdout",
          "text": [
            "Epoch 0, Loss: 0.4292119216731479\n",
            "Epoch 100, Loss: 0.1792657592374957\n",
            "Epoch 200, Loss: 0.17673798098239618\n",
            "Epoch 300, Loss: 0.175655794249703\n",
            "Epoch 400, Loss: 0.17442532874202987\n",
            "Epoch 500, Loss: 0.17296843945314216\n",
            "Epoch 600, Loss: 0.1714725760553641\n",
            "Epoch 700, Loss: 0.17006169912491093\n",
            "Epoch 800, Loss: 0.16877355490114243\n",
            "Epoch 900, Loss: 0.16758109536439098\n",
            "Accuracy (3 layers, first layer < second layer): 9.25%\n"
          ]
        }
      ],
      "source": [
        "# 2. NN with 3 layers: 2 hidden layers (first layer < second layer) and 1 output layer\n",
        "nn2 = NN(X_train, y_train_one_hot, 3, [20, 30, 10])\n",
        "accuracy2 = nn2.evaluate(X_test, y_test)\n",
        "print(f'Accuracy (3 layers, first layer < second layer): {accuracy2 * 100:.2f}%')\n"
      ]
    },
    {
      "cell_type": "code",
      "execution_count": null,
      "id": "47aa9b17",
      "metadata": {
        "colab": {
          "base_uri": "https://localhost:8080/"
        },
        "id": "47aa9b17",
        "outputId": "2f449bf6-1cd9-4f71-c612-526315ad3162"
      },
      "outputs": [
        {
          "output_type": "stream",
          "name": "stdout",
          "text": [
            "Epoch 0, Loss: 0.5688047162615391\n",
            "Epoch 100, Loss: 0.11726101072253865\n",
            "Epoch 200, Loss: 0.08920133606422932\n",
            "Epoch 300, Loss: 0.0869678558692315\n",
            "Epoch 400, Loss: 0.08531995164845567\n",
            "Epoch 500, Loss: 0.0838838447388673\n",
            "Epoch 600, Loss: 0.08257573298256114\n",
            "Epoch 700, Loss: 0.0813558589213757\n",
            "Epoch 800, Loss: 0.08020431904643607\n",
            "Epoch 900, Loss: 0.07911300690274989\n",
            "Accuracy (3 layers, first layer > second layer): 35.90%\n"
          ]
        }
      ],
      "source": [
        "\n",
        "# 3. NN with 3 layers: 2 hidden layers (first layer > second layer) and 1 output layer\n",
        "nn3 = NN(X_train, y_train_one_hot, 3, [30, 20, 10])\n",
        "accuracy3 = nn3.evaluate(X_test, y_test)\n",
        "print(f'Accuracy (3 layers, first layer > second layer): {accuracy3 * 100:.2f}%')"
      ]
    },
    {
      "cell_type": "code",
      "execution_count": null,
      "id": "5627bd87",
      "metadata": {
        "colab": {
          "base_uri": "https://localhost:8080/"
        },
        "id": "5627bd87",
        "outputId": "bde59370-da8e-4829-c3a3-442952c5dc14"
      },
      "outputs": [
        {
          "output_type": "stream",
          "name": "stdout",
          "text": [
            "Epoch 0, Loss: 0.34092956195740337\n",
            "Epoch 100, Loss: 0.10054119933537643\n",
            "Epoch 200, Loss: 0.09538159151010168\n",
            "Epoch 300, Loss: 0.09326571573824863\n",
            "Epoch 400, Loss: 0.09176495892471953\n",
            "Epoch 500, Loss: 0.09051088748383951\n",
            "Epoch 600, Loss: 0.08937297548037956\n",
            "Epoch 700, Loss: 0.08830041347528159\n",
            "Epoch 800, Loss: 0.08726501383763079\n",
            "Epoch 900, Loss: 0.08623820541190633\n",
            "Accuracy (3 layers, first layer > second layer): 27.43%\n"
          ]
        }
      ],
      "source": [
        "nn4 = NN(X_train, y_train_one_hot, 3, [50, 25, 10])\n",
        "accuracy4 = nn4.evaluate(X_test, y_test)\n",
        "print(f'Accuracy (3 layers, first layer > second layer): {accuracy4 * 100:.2f}%')"
      ]
    },
    {
      "cell_type": "code",
      "source": [
        "# 1. NN with 2 layers: 1 hidden layer and 1 output layer\n",
        "nn1 = NN(X_train, y_train_one_hot, 2, [50, 10])\n",
        "accuracy1 = nn1.evaluate(X_test, y_test)\n",
        "print(f'Accuracy (2 layers): {accuracy1 * 100:.2f}%')"
      ],
      "metadata": {
        "colab": {
          "base_uri": "https://localhost:8080/"
        },
        "id": "4zsV3b5xk-5A",
        "outputId": "8fd9e153-52ce-4a51-ae0a-b97024fcd310"
      },
      "id": "4zsV3b5xk-5A",
      "execution_count": null,
      "outputs": [
        {
          "output_type": "stream",
          "name": "stdout",
          "text": [
            "Epoch 0, Loss: 0.36758514164445366\n",
            "Epoch 100, Loss: 0.12508059058782184\n",
            "Epoch 200, Loss: 0.10357525560842316\n",
            "Epoch 300, Loss: 0.10005700520430758\n",
            "Epoch 400, Loss: 0.09823425149065693\n",
            "Epoch 500, Loss: 0.09682193474826481\n",
            "Epoch 600, Loss: 0.09558690572034607\n",
            "Epoch 700, Loss: 0.09449213851514328\n",
            "Epoch 800, Loss: 0.09350924668980076\n",
            "Epoch 900, Loss: 0.092607019752489\n",
            "Accuracy (2 layers): 24.26%\n"
          ]
        }
      ]
    }
  ],
  "metadata": {
    "kernelspec": {
      "display_name": "Python 3 (ipykernel)",
      "language": "python",
      "name": "python3"
    },
    "language_info": {
      "codemirror_mode": {
        "name": "ipython",
        "version": 3
      },
      "file_extension": ".py",
      "mimetype": "text/x-python",
      "name": "python",
      "nbconvert_exporter": "python",
      "pygments_lexer": "ipython3",
      "version": "3.9.12"
    },
    "colab": {
      "provenance": []
    }
  },
  "nbformat": 4,
  "nbformat_minor": 5
}